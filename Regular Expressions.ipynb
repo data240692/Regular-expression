{
 "cells": [
  {
   "cell_type": "code",
   "execution_count": 12,
   "id": "814df223",
   "metadata": {},
   "outputs": [
    {
     "name": "stdout",
     "output_type": "stream",
     "text": [
      "Python:Exercises::PHP:exercises:\n"
     ]
    }
   ],
   "source": [
    "+-import re\n",
    "text = 'Python Exercises, PHP exercises.'\n",
    "print(re.sub(\"[ ,.]\", \":\", text))"
   ]
  },
  {
   "cell_type": "code",
   "execution_count": 5,
   "id": "2e7fb193",
   "metadata": {},
   "outputs": [
    {
     "name": "stdout",
     "output_type": "stream",
     "text": [
      "0     hello world\n",
      "1            test\n",
      "2    fourfive six\n",
      "Name: SUMMARY, dtype: object\n"
     ]
    }
   ],
   "source": [
    "import pandas as pd\n",
    "import re\n",
    "data = {'SUMMARY': ['hello, world!', 'XXXXX test', '123four,five:; six...']}\n",
    "df = pd.DataFrame(data)\n",
    "df = df['SUMMARY'].apply(lambda x:\n",
    "re.sub(r'[^a-z\\s]','',x))\n",
    "print(df)"
   ]
  },
  {
   "cell_type": "code",
   "execution_count": 9,
   "id": "5acf432a",
   "metadata": {},
   "outputs": [
    {
     "name": "stdout",
     "output_type": "stream",
     "text": [
      "['teac', 'such', 'impo', 'rtan', 'crea', 'ture', 'life', 'stud']\n"
     ]
    }
   ],
   "source": [
    "text = \"A teacher is such an important creature in the life of a student\"\n",
    "string1= r\"\\w{4}\"\n",
    "pattern= re.compile(string1)\n",
    "result = pattern.findall(text)\n",
    "print(result)\n"
   ]
  },
  {
   "cell_type": "code",
   "execution_count": 10,
   "id": "e2cec22b",
   "metadata": {},
   "outputs": [
    {
     "name": "stdout",
     "output_type": "stream",
     "text": [
      "['teach', 'such', 'impor', 'tant', 'creat', 'ure', 'the', 'life', 'stude']\n"
     ]
    }
   ],
   "source": [
    "text = \"A teacher is such an important creature in the life of a student\"\n",
    "string2 = r\"\\w{3,5}\"\n",
    "pattern = re.compile(string2)\n",
    "result = pattern.findall(text)\n",
    "print(result)"
   ]
  },
  {
   "cell_type": "code",
   "execution_count": 4,
   "id": "1c7525c1",
   "metadata": {},
   "outputs": [
    {
     "name": "stdout",
     "output_type": "stream",
     "text": [
      "['Importance', 'Of', 'Regular', 'Expression', 'In', 'Python']\n"
     ]
    }
   ],
   "source": [
    "import re\n",
    "text = \"ImportanceOfRegularExpressionInPython\"\n",
    "x= re.findall('[A-Z][^A-Z]*', text)\n",
    "print(x)\n"
   ]
  },
  {
   "cell_type": "code",
   "execution_count": 10,
   "id": "b07e9a60",
   "metadata": {},
   "outputs": [
    {
     "name": "stdout",
     "output_type": "stream",
     "text": [
      "['', 'Importance', 'Of', 'Regular', 'Expression', 'In', 'Python']\n"
     ]
    }
   ],
   "source": [
    "text = \"ImportanceOfRegularExpressionInPython\"\n",
    "x= re.split('(?=[A-Z])', text)\n",
    "print(x)"
   ]
  },
  {
   "cell_type": "code",
   "execution_count": 8,
   "id": "3fbe2dcc",
   "metadata": {},
   "outputs": [
    {
     "name": "stdout",
     "output_type": "stream",
     "text": [
      "['RegularExpression', '1IsAn', '2ImportantTopic', '3InPython']\n"
     ]
    }
   ],
   "source": [
    "text = \"RegularExpression1IsAn2ImportantTopic3InPython\"\n",
    "x= re.split('(?=[0-9])', text)\n",
    "print(x)"
   ]
  },
  {
   "cell_type": "code",
   "execution_count": 13,
   "id": "7db781b2",
   "metadata": {},
   "outputs": [
    {
     "name": "stdout",
     "output_type": "stream",
     "text": [
      "['RegularExpression', '1', 'IsAn', '2', 'ImportantTopic', '3', 'InPython']\n"
     ]
    }
   ],
   "source": [
    "text = \"RegularExpression1IsAn2ImportantTopic3InPython\"\n",
    "x= re.split(r'(\\d+)', text)\n",
    "print(x)"
   ]
  },
  {
   "cell_type": "code",
   "execution_count": 17,
   "id": "65af485d",
   "metadata": {},
   "outputs": [
    {
     "name": "stdout",
     "output_type": "stream",
     "text": [
      "<re.Match object; span=(0, 23), match='Hello Python World_2024'>\n"
     ]
    }
   ],
   "source": [
    "import re\n",
    "text = \"Hello Python World_2024\"\n",
    "y= re.match(r\"\\w.+\", text)\n",
    "print(y)"
   ]
  },
  {
   "cell_type": "code",
   "execution_count": 20,
   "id": "7a1ce6a4",
   "metadata": {},
   "outputs": [
    {
     "name": "stdout",
     "output_type": "stream",
     "text": [
      "<re.Match object; span=(0, 4), match='2024'>\n"
     ]
    }
   ],
   "source": [
    "string = \"2024 i started doing my data science course at data trained institute\"\n",
    "y= re.match(r\"\\d{4}\", string)\n",
    "print(y)"
   ]
  },
  {
   "cell_type": "code",
   "execution_count": 24,
   "id": "9f5414f7",
   "metadata": {},
   "outputs": [
    {
     "name": "stdout",
     "output_type": "stream",
     "text": [
      "684.2.81.111\n"
     ]
    }
   ],
   "source": [
    "import re\n",
    "ip = \"684.02.081.111\"\n",
    "result = re.sub('\\.[0]*', '.', ip)\n",
    "print(result)"
   ]
  },
  {
   "cell_type": "code",
   "execution_count": 4,
   "id": "fc9024d4",
   "metadata": {},
   "outputs": [
    {
     "name": "stdout",
     "output_type": "stream",
     "text": [
      "['Regular', 'Expression', 'Is', 'An', 'Important', 'Topic', 'In', 'Python']\n"
     ]
    }
   ],
   "source": [
    "import re\n",
    "sample_text = \"RegularExpressionIsAnImportantTopicInPython\"\n",
    "x= re.findall('[A-Z][^A-Z]*', sample_text)\n",
    "print(x)"
   ]
  },
  {
   "cell_type": "code",
   "execution_count": 12,
   "id": "62e0c6ac",
   "metadata": {},
   "outputs": [
    {
     "name": "stdout",
     "output_type": "stream",
     "text": [
      "it's a match\n"
     ]
    }
   ],
   "source": [
    "import re\n",
    "text = 'Python exercises, PHP exercises, C#exercises'\n",
    "pattern = 'exercises'\n",
    "x= re.findall(pattern, text)\n",
    "if x:\n",
    "    print('it\\'s a match')\n",
    "    \n",
    "else:\n",
    "    print('no match found')\n"
   ]
  },
  {
   "cell_type": "code",
   "execution_count": 13,
   "id": "c74111db",
   "metadata": {},
   "outputs": [
    {
     "name": "stdout",
     "output_type": "stream",
     "text": [
      "no match found\n",
      "None\n"
     ]
    }
   ],
   "source": [
    "import re\n",
    "string1 = 'The quick brown fox jumps over the lazy dog.'\n",
    "x = re.search('\\wfox\\w', string1)\n",
    "if x:\n",
    "    print('it\\'s a match,starts on', x.start())\n",
    "else:\n",
    "    print('no match found')\n",
    "print(x)"
   ]
  },
  {
   "cell_type": "code",
   "execution_count": 15,
   "id": "54c187b1",
   "metadata": {},
   "outputs": [
    {
     "name": "stdout",
     "output_type": "stream",
     "text": [
      "Hello hello world world\n"
     ]
    }
   ],
   "source": [
    "sample_text = \"Hello hello world world\"\n",
    "pattern = r'\\b(\\w+)(?:\\w+\\1\\b)+'\n",
    "x = re.sub(pattern, r'\\1', sample_text)\n",
    "print(x)"
   ]
  },
  {
   "cell_type": "code",
   "execution_count": null,
   "id": "c5e0e4d8",
   "metadata": {},
   "outputs": [],
   "source": []
  },
  {
   "cell_type": "code",
   "execution_count": null,
   "id": "bbd0b072",
   "metadata": {},
   "outputs": [],
   "source": []
  },
  {
   "cell_type": "code",
   "execution_count": null,
   "id": "bc177733",
   "metadata": {},
   "outputs": [],
   "source": []
  }
 ],
 "metadata": {
  "kernelspec": {
   "display_name": "Python 3 (ipykernel)",
   "language": "python",
   "name": "python3"
  },
  "language_info": {
   "codemirror_mode": {
    "name": "ipython",
    "version": 3
   },
   "file_extension": ".py",
   "mimetype": "text/x-python",
   "name": "python",
   "nbconvert_exporter": "python",
   "pygments_lexer": "ipython3",
   "version": "3.11.4"
  }
 },
 "nbformat": 4,
 "nbformat_minor": 5
}
